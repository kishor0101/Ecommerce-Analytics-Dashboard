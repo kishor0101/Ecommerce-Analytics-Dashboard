{
  "nbformat": 4,
  "nbformat_minor": 0,
  "metadata": {
    "colab": {
      "provenance": []
    },
    "kernelspec": {
      "name": "python3",
      "display_name": "Python 3"
    },
    "language_info": {
      "name": "python"
    }
  },
  "cells": [
    {
      "cell_type": "markdown",
      "source": [
        "`E-COMMERCE ANALYTICS DASHBOARD`\n",
        "\n",
        "Database improvements → SQLite को normalize + indexing करना।\n",
        "\n",
        "Functions rename + modularization → अपने naming conventions से।\n",
        "\n",
        "Extra analytics → top categories, seasonal sales, avg order value।\n",
        "\n",
        "Export multiple formats → CSV + PDF download।\n",
        "\n",
        "Better UI → Gradio dashboard में अलग-अलग tabs।"
      ],
      "metadata": {
        "id": "lFM_CH8siOg2"
      }
    },
    {
      "cell_type": "code",
      "execution_count": 5,
      "metadata": {
        "colab": {
          "base_uri": "https://localhost:8080/",
          "height": 688
        },
        "id": "2-GvEukdh4u6",
        "outputId": "304bb37b-082b-4614-afcc-a3f19e5296f4"
      },
      "outputs": [
        {
          "output_type": "stream",
          "name": "stdout",
          "text": [
            " * Serving Flask app 'ecom_api'\n",
            " * Debug mode: off\n"
          ]
        },
        {
          "output_type": "stream",
          "name": "stderr",
          "text": [
            "Address already in use\n",
            "Port 7866 is in use by another program. Either identify and stop that program, or start the server with a different port.\n"
          ]
        },
        {
          "output_type": "stream",
          "name": "stdout",
          "text": [
            "Colab notebook detected. To show errors in colab notebook, set debug=True in launch()\n",
            "Note: opening Chrome Inspector may crash demo inside Colab notebooks.\n",
            "* To create a public link, set `share=True` in `launch()`.\n"
          ]
        },
        {
          "output_type": "display_data",
          "data": {
            "text/plain": [
              "<IPython.core.display.Javascript object>"
            ],
            "application/javascript": [
              "(async (port, path, width, height, cache, element) => {\n",
              "                        if (!google.colab.kernel.accessAllowed && !cache) {\n",
              "                            return;\n",
              "                        }\n",
              "                        element.appendChild(document.createTextNode(''));\n",
              "                        const url = await google.colab.kernel.proxyPort(port, {cache});\n",
              "\n",
              "                        const external_link = document.createElement('div');\n",
              "                        external_link.innerHTML = `\n",
              "                            <div style=\"font-family: monospace; margin-bottom: 0.5rem\">\n",
              "                                Running on <a href=${new URL(path, url).toString()} target=\"_blank\">\n",
              "                                    https://localhost:${port}${path}\n",
              "                                </a>\n",
              "                            </div>\n",
              "                        `;\n",
              "                        element.appendChild(external_link);\n",
              "\n",
              "                        const iframe = document.createElement('iframe');\n",
              "                        iframe.src = new URL(path, url).toString();\n",
              "                        iframe.height = height;\n",
              "                        iframe.allow = \"autoplay; camera; microphone; clipboard-read; clipboard-write;\"\n",
              "                        iframe.width = width;\n",
              "                        iframe.style.border = 0;\n",
              "                        element.appendChild(iframe);\n",
              "                    })(7867, \"/\", \"100%\", 500, false, window.element)"
            ]
          },
          "metadata": {}
        },
        {
          "output_type": "execute_result",
          "data": {
            "text/plain": []
          },
          "metadata": {},
          "execution_count": 5
        }
      ],
      "source": [
        "# E-COMMERCE ANALYTICS DASHBOARD\n",
        "\n",
        "\n",
        "# 👉 Required libraries\n",
        "# pandas (data handling), numpy (random simulation), sqlite3 (lightweight DB),\n",
        "# flask (API routes), gradio (UI), plotly (interactive graphs), reportlab (PDF export)\n",
        "!pip install pandas numpy plotly flask gradio sqlalchemy reportlab --quiet\n",
        "\n",
        "import threading, sqlite3, io\n",
        "from flask import Flask, send_file\n",
        "import pandas as pd, numpy as np\n",
        "import plotly.express as px\n",
        "import gradio as gr\n",
        "from reportlab.lib.pagesizes import letter\n",
        "from reportlab.pdfgen import canvas\n",
        "\n",
        "\n",
        "# 1. Database Setup\n",
        "# Dummy database jisme random sales data hai\n",
        "# Real project me ye DB e-commerce system se connect hoga\n",
        "\n",
        "conn = sqlite3.connect(\"ecom.db\", check_same_thread=False)\n",
        "cur = conn.cursor()\n",
        "\n",
        "# Purana table delete karo agar exist kare\n",
        "cur.execute(\"DROP TABLE IF EXISTS sales_orders\")\n",
        "\n",
        "# Naya table banaya: (product, category, qty, revenue, date)\n",
        "cur.execute(\"\"\"\n",
        "CREATE TABLE sales_orders (\n",
        "    id INTEGER PRIMARY KEY,\n",
        "    product TEXT,\n",
        "    category TEXT,\n",
        "    quantity INT,\n",
        "    revenue REAL,\n",
        "    order_date TEXT\n",
        ")\n",
        "\"\"\")\n",
        "\n",
        "# Categories aur products define\n",
        "categories = ['Electronics','Home','Fashion','Beauty']\n",
        "products_map = {\n",
        "    'Electronics': ['Phone','Headset','Charger'],\n",
        "    'Home': ['Lamp','Rug','Mug'],\n",
        "    'Fashion': ['Tshirt','Sneakers'],\n",
        "    'Beauty': ['Lotion','Perfume']\n",
        "}\n",
        "\n",
        "# Random data generate\n",
        "rows=[]\n",
        "np.random.seed(42)\n",
        "for i in range(2000):\n",
        "    cat = np.random.choice(categories, p=[0.35,0.25,0.25,0.15])\n",
        "    prod = np.random.choice(products_map[cat])\n",
        "    qty = np.random.randint(1,5)\n",
        "    rev = round(qty * (20 + np.random.rand()*250),2)\n",
        "    date = (pd.Timestamp('2023-01-01') + pd.Timedelta(days=int(np.random.rand()*730))).strftime('%Y-%m-%d')\n",
        "    rows.append((prod,cat,qty,rev,date))\n",
        "\n",
        "cur.executemany(\"INSERT INTO sales_orders (product,category,quantity,revenue,order_date) VALUES (?,?,?,?,?)\", rows)\n",
        "conn.commit()\n",
        "\n",
        "# ==========================\n",
        "# 2. Helper Functions\n",
        "# ==========================\n",
        "\n",
        "def fetch_top_products(limit=10):\n",
        "    \"\"\"\n",
        "    Function: Returns top products by revenue\n",
        "    Ye function database se sales data read karta hai\n",
        "    aur sabse zyada revenue generate karne wale products dikhata hai\n",
        "    \"\"\"\n",
        "    df = pd.read_sql(\"SELECT * FROM sales_orders\", conn, parse_dates=['order_date'])\n",
        "    summary = df.groupby('product').agg(\n",
        "        total_sales=('revenue','sum'),\n",
        "        total_units=('quantity','sum')\n",
        "    ).reset_index().sort_values('total_sales', ascending=False)\n",
        "    return summary.head(limit)\n",
        "\n",
        "def fetch_category_trend(chosen_category='All'):\n",
        "    \"\"\"\n",
        "    Function: Revenue trend month-wise\n",
        "    Agar 'All' hai to sab category ka trend,\n",
        "    warna specific category ka trend dikhayega\n",
        "    \"\"\"\n",
        "    df = pd.read_sql(\"SELECT * FROM sales_orders\", conn, parse_dates=['order_date'])\n",
        "    if chosen_category!='All':\n",
        "        df = df[df.category==chosen_category]\n",
        "    df['month'] = df.order_date.dt.to_period('M').astype(str)\n",
        "    monthly = df.groupby(['month','category']).revenue.sum().reset_index()\n",
        "    fig = px.line(monthly, x='month', y='revenue', color='category',\n",
        "                  title='📊 Monthly Revenue by Category')\n",
        "    return fig\n",
        "\n",
        "def export_top_products_pdf():\n",
        "    \"\"\"\n",
        "    Function: Export Top Products in PDF\n",
        "    'Reporting feature added'\n",
        "    \"\"\"\n",
        "    df = fetch_top_products(20)\n",
        "    filename = \"top_products.pdf\"\n",
        "    c = canvas.Canvas(filename, pagesize=letter)\n",
        "    c.drawString(200, 750, \"E-commerce: Top Products Report\")\n",
        "    y = 700\n",
        "    for _, row in df.iterrows():\n",
        "        c.drawString(100, y, f\"{row['product']} - Units: {row['total_units']} - Revenue: {row['total_sales']}\")\n",
        "        y -= 20\n",
        "    c.save()\n",
        "    return filename\n",
        "\n",
        "# ==========================\n",
        "# 3. Flask API (CSV Download)\n",
        "# ==========================\n",
        "app = Flask(\"ecom_api\")\n",
        "\n",
        "@app.route(\"/download/top_products.csv\")\n",
        "def dl_top_csv():\n",
        "    df = fetch_top_products(50)\n",
        "    buf = io.BytesIO()\n",
        "    df.to_csv(buf, index=False)\n",
        "    buf.seek(0)\n",
        "    return send_file(buf, mimetype='text/csv', download_name='top_products.csv')\n",
        "\n",
        "@app.route(\"/download/top_products.pdf\")\n",
        "def dl_top_pdf():\n",
        "    file = export_top_products_pdf()\n",
        "    return send_file(file, mimetype='application/pdf', download_name='top_products.pdf')\n",
        "\n",
        "def run_flask():\n",
        "    app.run(host=\"0.0.0.0\", port=7866) # Changed port to 7866\n",
        "\n",
        "# ==========================\n",
        "# 4. Gradio Dashboard\n",
        "# ==========================\n",
        "with gr.Blocks() as dashboard:\n",
        "    gr.Markdown(\"## 🛒 E-commerce Product Analytics Dashboard\")\n",
        "\n",
        "    # Category filter\n",
        "    cat_dropdown = gr.Dropdown([\"All\"]+categories, value=\"All\", label=\"Choose Category\")\n",
        "\n",
        "    # Buttons\n",
        "    show_btn = gr.Button(\"Show Trend\")\n",
        "    pdf_btn = gr.Button(\"Export Top Products PDF\")\n",
        "\n",
        "    # Outputs\n",
        "    plot_out = gr.Plot()\n",
        "    table_out = gr.Dataframe()\n",
        "    pdf_msg = gr.Textbox(label=\"PDF Export Status\")\n",
        "\n",
        "    # Action functions\n",
        "    def show_analysis(cat):\n",
        "        return fetch_category_trend(cat), fetch_top_products(10)\n",
        "\n",
        "    def save_pdf():\n",
        "        file = export_top_products_pdf()\n",
        "        return f\"✅ PDF saved as {file}\"\n",
        "\n",
        "    show_btn.click(show_analysis, inputs=cat_dropdown, outputs=[plot_out, table_out])\n",
        "    pdf_btn.click(save_pdf, outputs=pdf_msg)\n",
        "\n",
        "    gr.Markdown(\"### Downloads:\")\n",
        "    gr.Markdown(\"- [Download Top Products CSV](http://localhost:7866/download/top_products.csv)\") # Updated port in markdown link\n",
        "    gr.Markdown(\"- [Download Top Products PDF](http://localhost:7866/download/top_products.pdf)\") # Updated port in markdown link\n",
        "\n",
        "# Run servers (Flask + Gradio)\n",
        "threading.Thread(target=run_flask, daemon=True).start()\n",
        "dashboard.launch(server_name=\"0.0.0.0\", server_port=7867, share=False) # Changed port to 7867"
      ]
    },
    {
      "cell_type": "markdown",
      "source": [],
      "metadata": {
        "id": "VF9eUDD0mIRG"
      }
    },
    {
      "cell_type": "code",
      "source": [],
      "metadata": {
        "id": "gFfV7BfNmJUK"
      },
      "execution_count": null,
      "outputs": []
    },
    {
      "cell_type": "code",
      "source": [],
      "metadata": {
        "id": "JRg3-BhYmJWr"
      },
      "execution_count": null,
      "outputs": []
    }
  ]
}